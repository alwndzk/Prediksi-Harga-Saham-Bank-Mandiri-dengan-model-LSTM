{
  "cells": [
    {
      "cell_type": "code",
      "execution_count": null,
      "metadata": {
        "colab": {
          "base_uri": "https://localhost:8080/"
        },
        "id": "y_A-IB6aTqlm",
        "outputId": "3a227241-c047-4faf-be8d-a37e67694cc6"
      },
      "outputs": [
        {
          "output_type": "stream",
          "name": "stdout",
          "text": [
            "Requirement already satisfied: yfinance in /usr/local/lib/python3.11/dist-packages (0.2.61)\n",
            "Requirement already satisfied: numpy in /usr/local/lib/python3.11/dist-packages (2.0.2)\n",
            "Requirement already satisfied: pandas in /usr/local/lib/python3.11/dist-packages (2.2.2)\n",
            "Requirement already satisfied: matplotlib in /usr/local/lib/python3.11/dist-packages (3.10.0)\n",
            "Requirement already satisfied: tensorflow in /usr/local/lib/python3.11/dist-packages (2.18.0)\n",
            "Requirement already satisfied: scikit-learn in /usr/local/lib/python3.11/dist-packages (1.6.1)\n",
            "Requirement already satisfied: requests>=2.31 in /usr/local/lib/python3.11/dist-packages (from yfinance) (2.32.3)\n",
            "Requirement already satisfied: multitasking>=0.0.7 in /usr/local/lib/python3.11/dist-packages (from yfinance) (0.0.11)\n",
            "Requirement already satisfied: platformdirs>=2.0.0 in /usr/local/lib/python3.11/dist-packages (from yfinance) (4.3.8)\n",
            "Requirement already satisfied: pytz>=2022.5 in /usr/local/lib/python3.11/dist-packages (from yfinance) (2025.2)\n",
            "Requirement already satisfied: frozendict>=2.3.4 in /usr/local/lib/python3.11/dist-packages (from yfinance) (2.4.6)\n",
            "Requirement already satisfied: peewee>=3.16.2 in /usr/local/lib/python3.11/dist-packages (from yfinance) (3.18.1)\n",
            "Requirement already satisfied: beautifulsoup4>=4.11.1 in /usr/local/lib/python3.11/dist-packages (from yfinance) (4.13.4)\n",
            "Requirement already satisfied: curl_cffi>=0.7 in /usr/local/lib/python3.11/dist-packages (from yfinance) (0.11.1)\n",
            "Requirement already satisfied: protobuf>=3.19.0 in /usr/local/lib/python3.11/dist-packages (from yfinance) (5.29.4)\n",
            "Requirement already satisfied: websockets>=13.0 in /usr/local/lib/python3.11/dist-packages (from yfinance) (15.0.1)\n",
            "Requirement already satisfied: python-dateutil>=2.8.2 in /usr/local/lib/python3.11/dist-packages (from pandas) (2.9.0.post0)\n",
            "Requirement already satisfied: tzdata>=2022.7 in /usr/local/lib/python3.11/dist-packages (from pandas) (2025.2)\n",
            "Requirement already satisfied: contourpy>=1.0.1 in /usr/local/lib/python3.11/dist-packages (from matplotlib) (1.3.2)\n",
            "Requirement already satisfied: cycler>=0.10 in /usr/local/lib/python3.11/dist-packages (from matplotlib) (0.12.1)\n",
            "Requirement already satisfied: fonttools>=4.22.0 in /usr/local/lib/python3.11/dist-packages (from matplotlib) (4.58.0)\n",
            "Requirement already satisfied: kiwisolver>=1.3.1 in /usr/local/lib/python3.11/dist-packages (from matplotlib) (1.4.8)\n",
            "Requirement already satisfied: packaging>=20.0 in /usr/local/lib/python3.11/dist-packages (from matplotlib) (24.2)\n",
            "Requirement already satisfied: pillow>=8 in /usr/local/lib/python3.11/dist-packages (from matplotlib) (11.2.1)\n",
            "Requirement already satisfied: pyparsing>=2.3.1 in /usr/local/lib/python3.11/dist-packages (from matplotlib) (3.2.3)\n",
            "Requirement already satisfied: absl-py>=1.0.0 in /usr/local/lib/python3.11/dist-packages (from tensorflow) (1.4.0)\n",
            "Requirement already satisfied: astunparse>=1.6.0 in /usr/local/lib/python3.11/dist-packages (from tensorflow) (1.6.3)\n",
            "Requirement already satisfied: flatbuffers>=24.3.25 in /usr/local/lib/python3.11/dist-packages (from tensorflow) (25.2.10)\n",
            "Requirement already satisfied: gast!=0.5.0,!=0.5.1,!=0.5.2,>=0.2.1 in /usr/local/lib/python3.11/dist-packages (from tensorflow) (0.6.0)\n",
            "Requirement already satisfied: google-pasta>=0.1.1 in /usr/local/lib/python3.11/dist-packages (from tensorflow) (0.2.0)\n",
            "Requirement already satisfied: libclang>=13.0.0 in /usr/local/lib/python3.11/dist-packages (from tensorflow) (18.1.1)\n",
            "Requirement already satisfied: opt-einsum>=2.3.2 in /usr/local/lib/python3.11/dist-packages (from tensorflow) (3.4.0)\n",
            "Requirement already satisfied: setuptools in /usr/local/lib/python3.11/dist-packages (from tensorflow) (75.2.0)\n",
            "Requirement already satisfied: six>=1.12.0 in /usr/local/lib/python3.11/dist-packages (from tensorflow) (1.17.0)\n",
            "Requirement already satisfied: termcolor>=1.1.0 in /usr/local/lib/python3.11/dist-packages (from tensorflow) (3.1.0)\n",
            "Requirement already satisfied: typing-extensions>=3.6.6 in /usr/local/lib/python3.11/dist-packages (from tensorflow) (4.13.2)\n",
            "Requirement already satisfied: wrapt>=1.11.0 in /usr/local/lib/python3.11/dist-packages (from tensorflow) (1.17.2)\n",
            "Requirement already satisfied: grpcio<2.0,>=1.24.3 in /usr/local/lib/python3.11/dist-packages (from tensorflow) (1.71.0)\n",
            "Requirement already satisfied: tensorboard<2.19,>=2.18 in /usr/local/lib/python3.11/dist-packages (from tensorflow) (2.18.0)\n",
            "Requirement already satisfied: keras>=3.5.0 in /usr/local/lib/python3.11/dist-packages (from tensorflow) (3.8.0)\n",
            "Requirement already satisfied: h5py>=3.11.0 in /usr/local/lib/python3.11/dist-packages (from tensorflow) (3.13.0)\n",
            "Requirement already satisfied: ml-dtypes<0.5.0,>=0.4.0 in /usr/local/lib/python3.11/dist-packages (from tensorflow) (0.4.1)\n",
            "Requirement already satisfied: tensorflow-io-gcs-filesystem>=0.23.1 in /usr/local/lib/python3.11/dist-packages (from tensorflow) (0.37.1)\n",
            "Requirement already satisfied: scipy>=1.6.0 in /usr/local/lib/python3.11/dist-packages (from scikit-learn) (1.15.3)\n",
            "Requirement already satisfied: joblib>=1.2.0 in /usr/local/lib/python3.11/dist-packages (from scikit-learn) (1.5.0)\n",
            "Requirement already satisfied: threadpoolctl>=3.1.0 in /usr/local/lib/python3.11/dist-packages (from scikit-learn) (3.6.0)\n",
            "Requirement already satisfied: wheel<1.0,>=0.23.0 in /usr/local/lib/python3.11/dist-packages (from astunparse>=1.6.0->tensorflow) (0.45.1)\n",
            "Requirement already satisfied: soupsieve>1.2 in /usr/local/lib/python3.11/dist-packages (from beautifulsoup4>=4.11.1->yfinance) (2.7)\n",
            "Requirement already satisfied: cffi>=1.12.0 in /usr/local/lib/python3.11/dist-packages (from curl_cffi>=0.7->yfinance) (1.17.1)\n",
            "Requirement already satisfied: certifi>=2024.2.2 in /usr/local/lib/python3.11/dist-packages (from curl_cffi>=0.7->yfinance) (2025.4.26)\n",
            "Requirement already satisfied: rich in /usr/local/lib/python3.11/dist-packages (from keras>=3.5.0->tensorflow) (13.9.4)\n",
            "Requirement already satisfied: namex in /usr/local/lib/python3.11/dist-packages (from keras>=3.5.0->tensorflow) (0.0.9)\n",
            "Requirement already satisfied: optree in /usr/local/lib/python3.11/dist-packages (from keras>=3.5.0->tensorflow) (0.15.0)\n",
            "Requirement already satisfied: charset-normalizer<4,>=2 in /usr/local/lib/python3.11/dist-packages (from requests>=2.31->yfinance) (3.4.2)\n",
            "Requirement already satisfied: idna<4,>=2.5 in /usr/local/lib/python3.11/dist-packages (from requests>=2.31->yfinance) (3.10)\n",
            "Requirement already satisfied: urllib3<3,>=1.21.1 in /usr/local/lib/python3.11/dist-packages (from requests>=2.31->yfinance) (2.4.0)\n",
            "Requirement already satisfied: markdown>=2.6.8 in /usr/local/lib/python3.11/dist-packages (from tensorboard<2.19,>=2.18->tensorflow) (3.8)\n",
            "Requirement already satisfied: tensorboard-data-server<0.8.0,>=0.7.0 in /usr/local/lib/python3.11/dist-packages (from tensorboard<2.19,>=2.18->tensorflow) (0.7.2)\n",
            "Requirement already satisfied: werkzeug>=1.0.1 in /usr/local/lib/python3.11/dist-packages (from tensorboard<2.19,>=2.18->tensorflow) (3.1.3)\n",
            "Requirement already satisfied: pycparser in /usr/local/lib/python3.11/dist-packages (from cffi>=1.12.0->curl_cffi>=0.7->yfinance) (2.22)\n",
            "Requirement already satisfied: MarkupSafe>=2.1.1 in /usr/local/lib/python3.11/dist-packages (from werkzeug>=1.0.1->tensorboard<2.19,>=2.18->tensorflow) (3.0.2)\n",
            "Requirement already satisfied: markdown-it-py>=2.2.0 in /usr/local/lib/python3.11/dist-packages (from rich->keras>=3.5.0->tensorflow) (3.0.0)\n",
            "Requirement already satisfied: pygments<3.0.0,>=2.13.0 in /usr/local/lib/python3.11/dist-packages (from rich->keras>=3.5.0->tensorflow) (2.19.1)\n",
            "Requirement already satisfied: mdurl~=0.1 in /usr/local/lib/python3.11/dist-packages (from markdown-it-py>=2.2.0->rich->keras>=3.5.0->tensorflow) (0.1.2)\n"
          ]
        }
      ],
      "source": [
        "!pip install yfinance numpy pandas matplotlib tensorflow scikit-learn"
      ]
    },
    {
      "cell_type": "code",
      "source": [
        "# === 1. Mengambil Data Saham ===\n",
        "import yfinance as yf\n",
        "\n",
        "# Download data saham BMRI dari Yahoo Finance\n",
        "ticker = 'BMRI.JK'  # Kode saham BMRI di Yahoo Finance\n",
        "start_date = '2015-02-14'\n",
        "end_date = '2025-02-14'\n",
        "\n",
        "# Ambil data saham dan filter kolom yang diperlukan\n",
        "data = yf.download(ticker, start=start_date, end=end_date)\n",
        "required_columns = ['Open', 'High', 'Low', 'Close', 'Volume']\n",
        "data = data[required_columns]\n",
        "\n",
        "# Simpan ke file CSV dengan nama khusus\n",
        "csv_filename = 'SAHAM-BMRI.JK.csv'\n",
        "data.to_csv(csv_filename, index=True)\n",
        "\n",
        "print(f\"Data saham {ticker} telah disimpan ke dalam file '{csv_filename}'\")\n"
      ],
      "metadata": {
        "colab": {
          "base_uri": "https://localhost:8080/"
        },
        "id": "zoWf1lqmmYEt",
        "outputId": "6b12561f-cb11-4386-88d9-5021aabeccbf"
      },
      "execution_count": null,
      "outputs": [
        {
          "output_type": "stream",
          "name": "stdout",
          "text": [
            "YF.download() has changed argument auto_adjust default to True\n"
          ]
        },
        {
          "output_type": "stream",
          "name": "stderr",
          "text": [
            "\r[*********************100%***********************]  1 of 1 completed"
          ]
        },
        {
          "output_type": "stream",
          "name": "stdout",
          "text": [
            "Data saham BMRI.JK telah disimpan ke dalam file 'SAHAM-BMRI.JK.csv'\n"
          ]
        },
        {
          "output_type": "stream",
          "name": "stderr",
          "text": [
            "\n"
          ]
        }
      ]
    },
    {
      "cell_type": "code",
      "execution_count": null,
      "metadata": {
        "colab": {
          "base_uri": "https://localhost:8080/"
        },
        "id": "9YoswESuTrLe",
        "outputId": "08aa4433-2797-41b8-ac0a-b2ed75dc94dd"
      },
      "outputs": [
        {
          "output_type": "stream",
          "name": "stdout",
          "text": [
            "YF.download() has changed argument auto_adjust default to True\n"
          ]
        },
        {
          "output_type": "stream",
          "name": "stderr",
          "text": [
            "\r[*********************100%***********************]  1 of 1 completed\n"
          ]
        }
      ],
      "source": [
        "# # === 1. Ambil Data Saham ===\n",
        "# import yfinance as yf\n",
        "\n",
        "# # Download stock data using yfinance\n",
        "# ticker = 'BMRI.jk' # Ex, BMRI Inc.\n",
        "# data = yf.download(ticker, start='2015-02-14', end='2025-02-14')\n",
        "# required_columns = ['Open', 'High', 'Low', 'Close', 'Volume']\n",
        "# # required_columns = ['Close']\n",
        "# data = data[required_columns]"
      ]
    },
    {
      "cell_type": "code",
      "execution_count": null,
      "metadata": {
        "colab": {
          "base_uri": "https://localhost:8080/"
        },
        "id": "Oo0Rwm704E6E",
        "outputId": "7ae0561b-09f6-440a-caed-62414b02a310"
      },
      "outputs": [
        {
          "output_type": "stream",
          "name": "stdout",
          "text": [
            "⬇️ Mengunduh data saham dari Yahoo Finance...\n"
          ]
        }
      ],
      "source": [
        "# import os\n",
        "# import pandas as pd\n",
        "# import yfinance as yf\n",
        "\n",
        "# ticker = 'BMRI.JK'\n",
        "# filename = f'{ticker}.csv'\n",
        "\n",
        "# # Cek apakah file CSV sudah ada, jika ada maka gunakan file lokal\n",
        "# if os.path.exists(filename):\n",
        "#     print(\"🔁 Menggunakan data saham dari file lokal...\")\n",
        "#     df = pd.read_csv(filename, skiprows=2, header=0)\n",
        "#     df.columns = ['Date', 'Open', 'High', 'Low', 'Close', 'Volume']\n",
        "# else:\n",
        "#     print(\"⬇️ Mengunduh data saham dari Yahoo Finance...\")\n",
        "#     data = yf.download(ticker, start='2015-02-14', end='2025-02-14', progress=False)\n",
        "#     data = data[['Open', 'High', 'Low', 'Close', 'Volume']]\n",
        "#     data.to_csv(filename)\n",
        "#     df = pd.read_csv(filename, skiprows=2, header=0)\n",
        "#     df.columns = ['Date', 'Open', 'High', 'Low', 'Close', 'Volume']"
      ]
    },
    {
      "cell_type": "code",
      "execution_count": null,
      "metadata": {
        "id": "bgKoMgwETtNQ"
      },
      "outputs": [],
      "source": [
        "data.to_csv('SAHAM-BMRI.JK.csv')"
      ]
    },
    {
      "cell_type": "code",
      "execution_count": null,
      "metadata": {
        "colab": {
          "base_uri": "https://localhost:8080/",
          "height": 331
        },
        "id": "AfecU5mqTtPW",
        "outputId": "9f0c2eff-6dc9-42f0-b0a1-a2503cac0bad"
      },
      "outputs": [
        {
          "output_type": "execute_result",
          "data": {
            "text/plain": [
              "Price              Open         High          Low        Close     Volume\n",
              "Ticker          BMRI.JK      BMRI.JK      BMRI.JK      BMRI.JK    BMRI.JK\n",
              "Date                                                                     \n",
              "2015-02-16  1804.317169  1811.898334  1781.573676  1785.364258   85716800\n",
              "2015-02-17  1785.364178  1796.735924  1766.411267  1773.992432   28532800\n",
              "2015-02-18  1819.479044  1864.966020  1800.526137  1808.107300  167238000\n",
              "2015-02-20  1815.688746  1849.803984  1815.688746  1830.851074   74989600\n",
              "2015-02-23  1804.316949  1827.060440  1792.945204  1800.526367  118434000\n",
              "2015-02-24  1789.154622  1811.898113  1785.364040  1800.526367   81622800\n",
              "2015-02-25  1804.316772  1808.107354  1796.735610  1804.316772   62958800"
            ],
            "text/html": [
              "\n",
              "  <div id=\"df-7c1ae5b1-4a37-4295-a1b2-be1b21b20900\" class=\"colab-df-container\">\n",
              "    <div>\n",
              "<style scoped>\n",
              "    .dataframe tbody tr th:only-of-type {\n",
              "        vertical-align: middle;\n",
              "    }\n",
              "\n",
              "    .dataframe tbody tr th {\n",
              "        vertical-align: top;\n",
              "    }\n",
              "\n",
              "    .dataframe thead tr th {\n",
              "        text-align: left;\n",
              "    }\n",
              "\n",
              "    .dataframe thead tr:last-of-type th {\n",
              "        text-align: right;\n",
              "    }\n",
              "</style>\n",
              "<table border=\"1\" class=\"dataframe\">\n",
              "  <thead>\n",
              "    <tr>\n",
              "      <th>Price</th>\n",
              "      <th>Open</th>\n",
              "      <th>High</th>\n",
              "      <th>Low</th>\n",
              "      <th>Close</th>\n",
              "      <th>Volume</th>\n",
              "    </tr>\n",
              "    <tr>\n",
              "      <th>Ticker</th>\n",
              "      <th>BMRI.JK</th>\n",
              "      <th>BMRI.JK</th>\n",
              "      <th>BMRI.JK</th>\n",
              "      <th>BMRI.JK</th>\n",
              "      <th>BMRI.JK</th>\n",
              "    </tr>\n",
              "    <tr>\n",
              "      <th>Date</th>\n",
              "      <th></th>\n",
              "      <th></th>\n",
              "      <th></th>\n",
              "      <th></th>\n",
              "      <th></th>\n",
              "    </tr>\n",
              "  </thead>\n",
              "  <tbody>\n",
              "    <tr>\n",
              "      <th>2015-02-16</th>\n",
              "      <td>1804.317169</td>\n",
              "      <td>1811.898334</td>\n",
              "      <td>1781.573676</td>\n",
              "      <td>1785.364258</td>\n",
              "      <td>85716800</td>\n",
              "    </tr>\n",
              "    <tr>\n",
              "      <th>2015-02-17</th>\n",
              "      <td>1785.364178</td>\n",
              "      <td>1796.735924</td>\n",
              "      <td>1766.411267</td>\n",
              "      <td>1773.992432</td>\n",
              "      <td>28532800</td>\n",
              "    </tr>\n",
              "    <tr>\n",
              "      <th>2015-02-18</th>\n",
              "      <td>1819.479044</td>\n",
              "      <td>1864.966020</td>\n",
              "      <td>1800.526137</td>\n",
              "      <td>1808.107300</td>\n",
              "      <td>167238000</td>\n",
              "    </tr>\n",
              "    <tr>\n",
              "      <th>2015-02-20</th>\n",
              "      <td>1815.688746</td>\n",
              "      <td>1849.803984</td>\n",
              "      <td>1815.688746</td>\n",
              "      <td>1830.851074</td>\n",
              "      <td>74989600</td>\n",
              "    </tr>\n",
              "    <tr>\n",
              "      <th>2015-02-23</th>\n",
              "      <td>1804.316949</td>\n",
              "      <td>1827.060440</td>\n",
              "      <td>1792.945204</td>\n",
              "      <td>1800.526367</td>\n",
              "      <td>118434000</td>\n",
              "    </tr>\n",
              "    <tr>\n",
              "      <th>2015-02-24</th>\n",
              "      <td>1789.154622</td>\n",
              "      <td>1811.898113</td>\n",
              "      <td>1785.364040</td>\n",
              "      <td>1800.526367</td>\n",
              "      <td>81622800</td>\n",
              "    </tr>\n",
              "    <tr>\n",
              "      <th>2015-02-25</th>\n",
              "      <td>1804.316772</td>\n",
              "      <td>1808.107354</td>\n",
              "      <td>1796.735610</td>\n",
              "      <td>1804.316772</td>\n",
              "      <td>62958800</td>\n",
              "    </tr>\n",
              "  </tbody>\n",
              "</table>\n",
              "</div>\n",
              "    <div class=\"colab-df-buttons\">\n",
              "\n",
              "  <div class=\"colab-df-container\">\n",
              "    <button class=\"colab-df-convert\" onclick=\"convertToInteractive('df-7c1ae5b1-4a37-4295-a1b2-be1b21b20900')\"\n",
              "            title=\"Convert this dataframe to an interactive table.\"\n",
              "            style=\"display:none;\">\n",
              "\n",
              "  <svg xmlns=\"http://www.w3.org/2000/svg\" height=\"24px\" viewBox=\"0 -960 960 960\">\n",
              "    <path d=\"M120-120v-720h720v720H120Zm60-500h600v-160H180v160Zm220 220h160v-160H400v160Zm0 220h160v-160H400v160ZM180-400h160v-160H180v160Zm440 0h160v-160H620v160ZM180-180h160v-160H180v160Zm440 0h160v-160H620v160Z\"/>\n",
              "  </svg>\n",
              "    </button>\n",
              "\n",
              "  <style>\n",
              "    .colab-df-container {\n",
              "      display:flex;\n",
              "      gap: 12px;\n",
              "    }\n",
              "\n",
              "    .colab-df-convert {\n",
              "      background-color: #E8F0FE;\n",
              "      border: none;\n",
              "      border-radius: 50%;\n",
              "      cursor: pointer;\n",
              "      display: none;\n",
              "      fill: #1967D2;\n",
              "      height: 32px;\n",
              "      padding: 0 0 0 0;\n",
              "      width: 32px;\n",
              "    }\n",
              "\n",
              "    .colab-df-convert:hover {\n",
              "      background-color: #E2EBFA;\n",
              "      box-shadow: 0px 1px 2px rgba(60, 64, 67, 0.3), 0px 1px 3px 1px rgba(60, 64, 67, 0.15);\n",
              "      fill: #174EA6;\n",
              "    }\n",
              "\n",
              "    .colab-df-buttons div {\n",
              "      margin-bottom: 4px;\n",
              "    }\n",
              "\n",
              "    [theme=dark] .colab-df-convert {\n",
              "      background-color: #3B4455;\n",
              "      fill: #D2E3FC;\n",
              "    }\n",
              "\n",
              "    [theme=dark] .colab-df-convert:hover {\n",
              "      background-color: #434B5C;\n",
              "      box-shadow: 0px 1px 3px 1px rgba(0, 0, 0, 0.15);\n",
              "      filter: drop-shadow(0px 1px 2px rgba(0, 0, 0, 0.3));\n",
              "      fill: #FFFFFF;\n",
              "    }\n",
              "  </style>\n",
              "\n",
              "    <script>\n",
              "      const buttonEl =\n",
              "        document.querySelector('#df-7c1ae5b1-4a37-4295-a1b2-be1b21b20900 button.colab-df-convert');\n",
              "      buttonEl.style.display =\n",
              "        google.colab.kernel.accessAllowed ? 'block' : 'none';\n",
              "\n",
              "      async function convertToInteractive(key) {\n",
              "        const element = document.querySelector('#df-7c1ae5b1-4a37-4295-a1b2-be1b21b20900');\n",
              "        const dataTable =\n",
              "          await google.colab.kernel.invokeFunction('convertToInteractive',\n",
              "                                                    [key], {});\n",
              "        if (!dataTable) return;\n",
              "\n",
              "        const docLinkHtml = 'Like what you see? Visit the ' +\n",
              "          '<a target=\"_blank\" href=https://colab.research.google.com/notebooks/data_table.ipynb>data table notebook</a>'\n",
              "          + ' to learn more about interactive tables.';\n",
              "        element.innerHTML = '';\n",
              "        dataTable['output_type'] = 'display_data';\n",
              "        await google.colab.output.renderOutput(dataTable, element);\n",
              "        const docLink = document.createElement('div');\n",
              "        docLink.innerHTML = docLinkHtml;\n",
              "        element.appendChild(docLink);\n",
              "      }\n",
              "    </script>\n",
              "  </div>\n",
              "\n",
              "\n",
              "    <div id=\"df-bb8fba64-1a97-4565-a482-c311c7452e47\">\n",
              "      <button class=\"colab-df-quickchart\" onclick=\"quickchart('df-bb8fba64-1a97-4565-a482-c311c7452e47')\"\n",
              "                title=\"Suggest charts\"\n",
              "                style=\"display:none;\">\n",
              "\n",
              "<svg xmlns=\"http://www.w3.org/2000/svg\" height=\"24px\"viewBox=\"0 0 24 24\"\n",
              "     width=\"24px\">\n",
              "    <g>\n",
              "        <path d=\"M19 3H5c-1.1 0-2 .9-2 2v14c0 1.1.9 2 2 2h14c1.1 0 2-.9 2-2V5c0-1.1-.9-2-2-2zM9 17H7v-7h2v7zm4 0h-2V7h2v10zm4 0h-2v-4h2v4z\"/>\n",
              "    </g>\n",
              "</svg>\n",
              "      </button>\n",
              "\n",
              "<style>\n",
              "  .colab-df-quickchart {\n",
              "      --bg-color: #E8F0FE;\n",
              "      --fill-color: #1967D2;\n",
              "      --hover-bg-color: #E2EBFA;\n",
              "      --hover-fill-color: #174EA6;\n",
              "      --disabled-fill-color: #AAA;\n",
              "      --disabled-bg-color: #DDD;\n",
              "  }\n",
              "\n",
              "  [theme=dark] .colab-df-quickchart {\n",
              "      --bg-color: #3B4455;\n",
              "      --fill-color: #D2E3FC;\n",
              "      --hover-bg-color: #434B5C;\n",
              "      --hover-fill-color: #FFFFFF;\n",
              "      --disabled-bg-color: #3B4455;\n",
              "      --disabled-fill-color: #666;\n",
              "  }\n",
              "\n",
              "  .colab-df-quickchart {\n",
              "    background-color: var(--bg-color);\n",
              "    border: none;\n",
              "    border-radius: 50%;\n",
              "    cursor: pointer;\n",
              "    display: none;\n",
              "    fill: var(--fill-color);\n",
              "    height: 32px;\n",
              "    padding: 0;\n",
              "    width: 32px;\n",
              "  }\n",
              "\n",
              "  .colab-df-quickchart:hover {\n",
              "    background-color: var(--hover-bg-color);\n",
              "    box-shadow: 0 1px 2px rgba(60, 64, 67, 0.3), 0 1px 3px 1px rgba(60, 64, 67, 0.15);\n",
              "    fill: var(--button-hover-fill-color);\n",
              "  }\n",
              "\n",
              "  .colab-df-quickchart-complete:disabled,\n",
              "  .colab-df-quickchart-complete:disabled:hover {\n",
              "    background-color: var(--disabled-bg-color);\n",
              "    fill: var(--disabled-fill-color);\n",
              "    box-shadow: none;\n",
              "  }\n",
              "\n",
              "  .colab-df-spinner {\n",
              "    border: 2px solid var(--fill-color);\n",
              "    border-color: transparent;\n",
              "    border-bottom-color: var(--fill-color);\n",
              "    animation:\n",
              "      spin 1s steps(1) infinite;\n",
              "  }\n",
              "\n",
              "  @keyframes spin {\n",
              "    0% {\n",
              "      border-color: transparent;\n",
              "      border-bottom-color: var(--fill-color);\n",
              "      border-left-color: var(--fill-color);\n",
              "    }\n",
              "    20% {\n",
              "      border-color: transparent;\n",
              "      border-left-color: var(--fill-color);\n",
              "      border-top-color: var(--fill-color);\n",
              "    }\n",
              "    30% {\n",
              "      border-color: transparent;\n",
              "      border-left-color: var(--fill-color);\n",
              "      border-top-color: var(--fill-color);\n",
              "      border-right-color: var(--fill-color);\n",
              "    }\n",
              "    40% {\n",
              "      border-color: transparent;\n",
              "      border-right-color: var(--fill-color);\n",
              "      border-top-color: var(--fill-color);\n",
              "    }\n",
              "    60% {\n",
              "      border-color: transparent;\n",
              "      border-right-color: var(--fill-color);\n",
              "    }\n",
              "    80% {\n",
              "      border-color: transparent;\n",
              "      border-right-color: var(--fill-color);\n",
              "      border-bottom-color: var(--fill-color);\n",
              "    }\n",
              "    90% {\n",
              "      border-color: transparent;\n",
              "      border-bottom-color: var(--fill-color);\n",
              "    }\n",
              "  }\n",
              "</style>\n",
              "\n",
              "      <script>\n",
              "        async function quickchart(key) {\n",
              "          const quickchartButtonEl =\n",
              "            document.querySelector('#' + key + ' button');\n",
              "          quickchartButtonEl.disabled = true;  // To prevent multiple clicks.\n",
              "          quickchartButtonEl.classList.add('colab-df-spinner');\n",
              "          try {\n",
              "            const charts = await google.colab.kernel.invokeFunction(\n",
              "                'suggestCharts', [key], {});\n",
              "          } catch (error) {\n",
              "            console.error('Error during call to suggestCharts:', error);\n",
              "          }\n",
              "          quickchartButtonEl.classList.remove('colab-df-spinner');\n",
              "          quickchartButtonEl.classList.add('colab-df-quickchart-complete');\n",
              "        }\n",
              "        (() => {\n",
              "          let quickchartButtonEl =\n",
              "            document.querySelector('#df-bb8fba64-1a97-4565-a482-c311c7452e47 button');\n",
              "          quickchartButtonEl.style.display =\n",
              "            google.colab.kernel.accessAllowed ? 'block' : 'none';\n",
              "        })();\n",
              "      </script>\n",
              "    </div>\n",
              "\n",
              "    </div>\n",
              "  </div>\n"
            ],
            "application/vnd.google.colaboratory.intrinsic+json": {
              "type": "dataframe",
              "variable_name": "data",
              "summary": "{\n  \"name\": \"data\",\n  \"rows\": 2472,\n  \"fields\": [\n    {\n      \"column\": [\n        \"Date\",\n        \"\"\n      ],\n      \"properties\": {\n        \"dtype\": \"date\",\n        \"min\": \"2015-02-16 00:00:00\",\n        \"max\": \"2025-02-13 00:00:00\",\n        \"num_unique_values\": 2472,\n        \"samples\": [\n          \"2019-04-26 00:00:00\",\n          \"2023-11-20 00:00:00\",\n          \"2021-12-14 00:00:00\"\n        ],\n        \"semantic_type\": \"\",\n        \"description\": \"\"\n      }\n    },\n    {\n      \"column\": [\n        \"Open\",\n        \"BMRI.JK\"\n      ],\n      \"properties\": {\n        \"dtype\": \"number\",\n        \"std\": 1369.0378966970693,\n        \"min\": 1126.550682337721,\n        \"max\": 6769.00475744299,\n        \"num_unique_values\": 2163,\n        \"samples\": [\n          2432.3296914933785,\n          2982.935758196721,\n          2172.8636561030835\n        ],\n        \"semantic_type\": \"\",\n        \"description\": \"\"\n      }\n    },\n    {\n      \"column\": [\n        \"High\",\n        \"BMRI.JK\"\n      ],\n      \"properties\": {\n        \"dtype\": \"number\",\n        \"std\": 1384.141505582309,\n        \"min\": 1199.8536376953125,\n        \"max\": 6859.863881703969,\n        \"num_unique_values\": 1990,\n        \"samples\": [\n          2908.4140348614387,\n          4386.752486907409,\n          1754.0776039817115\n        ],\n        \"semantic_type\": \"\",\n        \"description\": \"\"\n      }\n    },\n    {\n      \"column\": [\n        \"Low\",\n        \"BMRI.JK\"\n      ],\n      \"properties\": {\n        \"dtype\": \"number\",\n        \"std\": 1353.5338995999507,\n        \"min\": 1103.40238064585,\n        \"max\": 6723.5751953125,\n        \"num_unique_values\": 2024,\n        \"samples\": [\n          2656.776681673729,\n          3793.354736328125,\n          2231.093636446221\n        ],\n        \"semantic_type\": \"\",\n        \"description\": \"\"\n      }\n    },\n    {\n      \"column\": [\n        \"Close\",\n        \"BMRI.JK\"\n      ],\n      \"properties\": {\n        \"dtype\": \"number\",\n        \"std\": 1368.2677434826567,\n        \"min\": 1161.2733154296875,\n        \"max\": 6769.0048828125,\n        \"num_unique_values\": 897,\n        \"samples\": [\n          2677.3125,\n          3090.870849609375,\n          2660.154296875\n        ],\n        \"semantic_type\": \"\",\n        \"description\": \"\"\n      }\n    },\n    {\n      \"column\": [\n        \"Volume\",\n        \"BMRI.JK\"\n      ],\n      \"properties\": {\n        \"dtype\": \"number\",\n        \"std\": 59201654,\n        \"min\": 0,\n        \"max\": 770252400,\n        \"num_unique_values\": 2402,\n        \"samples\": [\n          158513400,\n          189702800,\n          77757800\n        ],\n        \"semantic_type\": \"\",\n        \"description\": \"\"\n      }\n    }\n  ]\n}"
            }
          },
          "metadata": {},
          "execution_count": 5
        }
      ],
      "source": [
        "data.head(7)"
      ]
    },
    {
      "cell_type": "code",
      "execution_count": null,
      "metadata": {
        "id": "Nowj_zxy2xwT"
      },
      "outputs": [],
      "source": [
        "# Setting Random Seed\n",
        "import random\n",
        "import numpy as np\n",
        "import tensorflow as tf\n",
        "\n",
        "SEED = 42\n",
        "random.seed(SEED)\n",
        "np.random.seed(SEED)\n",
        "tf.random.set_seed(SEED)"
      ]
    },
    {
      "cell_type": "code",
      "execution_count": null,
      "metadata": {
        "id": "XSbZ4codocNE"
      },
      "outputs": [],
      "source": [
        "import numpy as np\n",
        "import pandas as pd\n",
        "import matplotlib.pyplot as plt\n",
        "import seaborn as sns\n",
        "from sklearn.preprocessing import MinMaxScaler\n",
        "from sklearn.metrics import mean_squared_error, mean_absolute_error, r2_score\n",
        "import tensorflow as tf\n",
        "from tensorflow.keras.models import Sequential\n",
        "from tensorflow.keras.layers import LSTM, Dense, Dropout\n",
        "from tensorflow.keras.optimizers import Adam"
      ]
    },
    {
      "cell_type": "code",
      "execution_count": null,
      "metadata": {
        "id": "6dUzfxmMod5n"
      },
      "outputs": [],
      "source": [
        "df = pd.read_csv('SAHAM-BMRI.JK.csv', skiprows=2, header=0)\n",
        "df.columns = ['Date', 'Open', 'High', 'Low', 'Close', 'Volume']\n",
        "\n",
        "# Pastikan baris pertama memang berisi data\n",
        "df = df[1:]\n",
        "\n",
        "# Konversi kolom Date ke format datetime\n",
        "df['Date'] = pd.to_datetime(df['Date'], format='%Y-%m-%d', errors='coerce')\n",
        "\n",
        "# Jadikan Date sebagai index\n",
        "df.set_index('Date', inplace=True)"
      ]
    },
    {
      "cell_type": "code",
      "execution_count": null,
      "metadata": {
        "id": "GjOjiD3iu5Mp",
        "colab": {
          "base_uri": "https://localhost:8080/",
          "height": 455
        },
        "outputId": "f46cf3f4-51cb-435b-fb51-723075c55e20"
      },
      "outputs": [
        {
          "output_type": "execute_result",
          "data": {
            "text/plain": [
              "                   Open         High          Low        Close     Volume\n",
              "Date                                                                     \n",
              "2015-02-17  1785.364178  1796.735924  1766.411267  1773.992432   28532800\n",
              "2015-02-18  1819.479044  1864.966020  1800.526137  1808.107300  167238000\n",
              "2015-02-20  1815.688746  1849.803984  1815.688746  1830.851074   74989600\n",
              "2015-02-23  1804.316949  1827.060440  1792.945204  1800.526367  118434000\n",
              "2015-02-24  1789.154622  1811.898113  1785.364040  1800.526367   81622800\n",
              "...                 ...          ...          ...          ...        ...\n",
              "2025-02-07  4542.956424  4679.245117  4497.526860  4679.245117  407896100\n",
              "2025-02-10  4679.245239  4679.245239  4533.870630  4542.956543  169384300\n",
              "2025-02-11  4315.808431  4497.526680  4315.808431  4433.925293  316743200\n",
              "2025-02-12  4470.269092  4497.526831  4388.495877  4488.440918  225073300\n",
              "2025-02-13  4488.440644  4611.100460  4452.096995  4565.670898  215271400\n",
              "\n",
              "[2471 rows x 5 columns]"
            ],
            "text/html": [
              "\n",
              "  <div id=\"df-a3bc8970-3565-4a5c-8026-fd268d22f1e8\" class=\"colab-df-container\">\n",
              "    <div>\n",
              "<style scoped>\n",
              "    .dataframe tbody tr th:only-of-type {\n",
              "        vertical-align: middle;\n",
              "    }\n",
              "\n",
              "    .dataframe tbody tr th {\n",
              "        vertical-align: top;\n",
              "    }\n",
              "\n",
              "    .dataframe thead th {\n",
              "        text-align: right;\n",
              "    }\n",
              "</style>\n",
              "<table border=\"1\" class=\"dataframe\">\n",
              "  <thead>\n",
              "    <tr style=\"text-align: right;\">\n",
              "      <th></th>\n",
              "      <th>Open</th>\n",
              "      <th>High</th>\n",
              "      <th>Low</th>\n",
              "      <th>Close</th>\n",
              "      <th>Volume</th>\n",
              "    </tr>\n",
              "    <tr>\n",
              "      <th>Date</th>\n",
              "      <th></th>\n",
              "      <th></th>\n",
              "      <th></th>\n",
              "      <th></th>\n",
              "      <th></th>\n",
              "    </tr>\n",
              "  </thead>\n",
              "  <tbody>\n",
              "    <tr>\n",
              "      <th>2015-02-17</th>\n",
              "      <td>1785.364178</td>\n",
              "      <td>1796.735924</td>\n",
              "      <td>1766.411267</td>\n",
              "      <td>1773.992432</td>\n",
              "      <td>28532800</td>\n",
              "    </tr>\n",
              "    <tr>\n",
              "      <th>2015-02-18</th>\n",
              "      <td>1819.479044</td>\n",
              "      <td>1864.966020</td>\n",
              "      <td>1800.526137</td>\n",
              "      <td>1808.107300</td>\n",
              "      <td>167238000</td>\n",
              "    </tr>\n",
              "    <tr>\n",
              "      <th>2015-02-20</th>\n",
              "      <td>1815.688746</td>\n",
              "      <td>1849.803984</td>\n",
              "      <td>1815.688746</td>\n",
              "      <td>1830.851074</td>\n",
              "      <td>74989600</td>\n",
              "    </tr>\n",
              "    <tr>\n",
              "      <th>2015-02-23</th>\n",
              "      <td>1804.316949</td>\n",
              "      <td>1827.060440</td>\n",
              "      <td>1792.945204</td>\n",
              "      <td>1800.526367</td>\n",
              "      <td>118434000</td>\n",
              "    </tr>\n",
              "    <tr>\n",
              "      <th>2015-02-24</th>\n",
              "      <td>1789.154622</td>\n",
              "      <td>1811.898113</td>\n",
              "      <td>1785.364040</td>\n",
              "      <td>1800.526367</td>\n",
              "      <td>81622800</td>\n",
              "    </tr>\n",
              "    <tr>\n",
              "      <th>...</th>\n",
              "      <td>...</td>\n",
              "      <td>...</td>\n",
              "      <td>...</td>\n",
              "      <td>...</td>\n",
              "      <td>...</td>\n",
              "    </tr>\n",
              "    <tr>\n",
              "      <th>2025-02-07</th>\n",
              "      <td>4542.956424</td>\n",
              "      <td>4679.245117</td>\n",
              "      <td>4497.526860</td>\n",
              "      <td>4679.245117</td>\n",
              "      <td>407896100</td>\n",
              "    </tr>\n",
              "    <tr>\n",
              "      <th>2025-02-10</th>\n",
              "      <td>4679.245239</td>\n",
              "      <td>4679.245239</td>\n",
              "      <td>4533.870630</td>\n",
              "      <td>4542.956543</td>\n",
              "      <td>169384300</td>\n",
              "    </tr>\n",
              "    <tr>\n",
              "      <th>2025-02-11</th>\n",
              "      <td>4315.808431</td>\n",
              "      <td>4497.526680</td>\n",
              "      <td>4315.808431</td>\n",
              "      <td>4433.925293</td>\n",
              "      <td>316743200</td>\n",
              "    </tr>\n",
              "    <tr>\n",
              "      <th>2025-02-12</th>\n",
              "      <td>4470.269092</td>\n",
              "      <td>4497.526831</td>\n",
              "      <td>4388.495877</td>\n",
              "      <td>4488.440918</td>\n",
              "      <td>225073300</td>\n",
              "    </tr>\n",
              "    <tr>\n",
              "      <th>2025-02-13</th>\n",
              "      <td>4488.440644</td>\n",
              "      <td>4611.100460</td>\n",
              "      <td>4452.096995</td>\n",
              "      <td>4565.670898</td>\n",
              "      <td>215271400</td>\n",
              "    </tr>\n",
              "  </tbody>\n",
              "</table>\n",
              "<p>2471 rows × 5 columns</p>\n",
              "</div>\n",
              "    <div class=\"colab-df-buttons\">\n",
              "\n",
              "  <div class=\"colab-df-container\">\n",
              "    <button class=\"colab-df-convert\" onclick=\"convertToInteractive('df-a3bc8970-3565-4a5c-8026-fd268d22f1e8')\"\n",
              "            title=\"Convert this dataframe to an interactive table.\"\n",
              "            style=\"display:none;\">\n",
              "\n",
              "  <svg xmlns=\"http://www.w3.org/2000/svg\" height=\"24px\" viewBox=\"0 -960 960 960\">\n",
              "    <path d=\"M120-120v-720h720v720H120Zm60-500h600v-160H180v160Zm220 220h160v-160H400v160Zm0 220h160v-160H400v160ZM180-400h160v-160H180v160Zm440 0h160v-160H620v160ZM180-180h160v-160H180v160Zm440 0h160v-160H620v160Z\"/>\n",
              "  </svg>\n",
              "    </button>\n",
              "\n",
              "  <style>\n",
              "    .colab-df-container {\n",
              "      display:flex;\n",
              "      gap: 12px;\n",
              "    }\n",
              "\n",
              "    .colab-df-convert {\n",
              "      background-color: #E8F0FE;\n",
              "      border: none;\n",
              "      border-radius: 50%;\n",
              "      cursor: pointer;\n",
              "      display: none;\n",
              "      fill: #1967D2;\n",
              "      height: 32px;\n",
              "      padding: 0 0 0 0;\n",
              "      width: 32px;\n",
              "    }\n",
              "\n",
              "    .colab-df-convert:hover {\n",
              "      background-color: #E2EBFA;\n",
              "      box-shadow: 0px 1px 2px rgba(60, 64, 67, 0.3), 0px 1px 3px 1px rgba(60, 64, 67, 0.15);\n",
              "      fill: #174EA6;\n",
              "    }\n",
              "\n",
              "    .colab-df-buttons div {\n",
              "      margin-bottom: 4px;\n",
              "    }\n",
              "\n",
              "    [theme=dark] .colab-df-convert {\n",
              "      background-color: #3B4455;\n",
              "      fill: #D2E3FC;\n",
              "    }\n",
              "\n",
              "    [theme=dark] .colab-df-convert:hover {\n",
              "      background-color: #434B5C;\n",
              "      box-shadow: 0px 1px 3px 1px rgba(0, 0, 0, 0.15);\n",
              "      filter: drop-shadow(0px 1px 2px rgba(0, 0, 0, 0.3));\n",
              "      fill: #FFFFFF;\n",
              "    }\n",
              "  </style>\n",
              "\n",
              "    <script>\n",
              "      const buttonEl =\n",
              "        document.querySelector('#df-a3bc8970-3565-4a5c-8026-fd268d22f1e8 button.colab-df-convert');\n",
              "      buttonEl.style.display =\n",
              "        google.colab.kernel.accessAllowed ? 'block' : 'none';\n",
              "\n",
              "      async function convertToInteractive(key) {\n",
              "        const element = document.querySelector('#df-a3bc8970-3565-4a5c-8026-fd268d22f1e8');\n",
              "        const dataTable =\n",
              "          await google.colab.kernel.invokeFunction('convertToInteractive',\n",
              "                                                    [key], {});\n",
              "        if (!dataTable) return;\n",
              "\n",
              "        const docLinkHtml = 'Like what you see? Visit the ' +\n",
              "          '<a target=\"_blank\" href=https://colab.research.google.com/notebooks/data_table.ipynb>data table notebook</a>'\n",
              "          + ' to learn more about interactive tables.';\n",
              "        element.innerHTML = '';\n",
              "        dataTable['output_type'] = 'display_data';\n",
              "        await google.colab.output.renderOutput(dataTable, element);\n",
              "        const docLink = document.createElement('div');\n",
              "        docLink.innerHTML = docLinkHtml;\n",
              "        element.appendChild(docLink);\n",
              "      }\n",
              "    </script>\n",
              "  </div>\n",
              "\n",
              "\n",
              "    <div id=\"df-885d6a9f-73b1-4e9a-a436-cc9b3d4c75cc\">\n",
              "      <button class=\"colab-df-quickchart\" onclick=\"quickchart('df-885d6a9f-73b1-4e9a-a436-cc9b3d4c75cc')\"\n",
              "                title=\"Suggest charts\"\n",
              "                style=\"display:none;\">\n",
              "\n",
              "<svg xmlns=\"http://www.w3.org/2000/svg\" height=\"24px\"viewBox=\"0 0 24 24\"\n",
              "     width=\"24px\">\n",
              "    <g>\n",
              "        <path d=\"M19 3H5c-1.1 0-2 .9-2 2v14c0 1.1.9 2 2 2h14c1.1 0 2-.9 2-2V5c0-1.1-.9-2-2-2zM9 17H7v-7h2v7zm4 0h-2V7h2v10zm4 0h-2v-4h2v4z\"/>\n",
              "    </g>\n",
              "</svg>\n",
              "      </button>\n",
              "\n",
              "<style>\n",
              "  .colab-df-quickchart {\n",
              "      --bg-color: #E8F0FE;\n",
              "      --fill-color: #1967D2;\n",
              "      --hover-bg-color: #E2EBFA;\n",
              "      --hover-fill-color: #174EA6;\n",
              "      --disabled-fill-color: #AAA;\n",
              "      --disabled-bg-color: #DDD;\n",
              "  }\n",
              "\n",
              "  [theme=dark] .colab-df-quickchart {\n",
              "      --bg-color: #3B4455;\n",
              "      --fill-color: #D2E3FC;\n",
              "      --hover-bg-color: #434B5C;\n",
              "      --hover-fill-color: #FFFFFF;\n",
              "      --disabled-bg-color: #3B4455;\n",
              "      --disabled-fill-color: #666;\n",
              "  }\n",
              "\n",
              "  .colab-df-quickchart {\n",
              "    background-color: var(--bg-color);\n",
              "    border: none;\n",
              "    border-radius: 50%;\n",
              "    cursor: pointer;\n",
              "    display: none;\n",
              "    fill: var(--fill-color);\n",
              "    height: 32px;\n",
              "    padding: 0;\n",
              "    width: 32px;\n",
              "  }\n",
              "\n",
              "  .colab-df-quickchart:hover {\n",
              "    background-color: var(--hover-bg-color);\n",
              "    box-shadow: 0 1px 2px rgba(60, 64, 67, 0.3), 0 1px 3px 1px rgba(60, 64, 67, 0.15);\n",
              "    fill: var(--button-hover-fill-color);\n",
              "  }\n",
              "\n",
              "  .colab-df-quickchart-complete:disabled,\n",
              "  .colab-df-quickchart-complete:disabled:hover {\n",
              "    background-color: var(--disabled-bg-color);\n",
              "    fill: var(--disabled-fill-color);\n",
              "    box-shadow: none;\n",
              "  }\n",
              "\n",
              "  .colab-df-spinner {\n",
              "    border: 2px solid var(--fill-color);\n",
              "    border-color: transparent;\n",
              "    border-bottom-color: var(--fill-color);\n",
              "    animation:\n",
              "      spin 1s steps(1) infinite;\n",
              "  }\n",
              "\n",
              "  @keyframes spin {\n",
              "    0% {\n",
              "      border-color: transparent;\n",
              "      border-bottom-color: var(--fill-color);\n",
              "      border-left-color: var(--fill-color);\n",
              "    }\n",
              "    20% {\n",
              "      border-color: transparent;\n",
              "      border-left-color: var(--fill-color);\n",
              "      border-top-color: var(--fill-color);\n",
              "    }\n",
              "    30% {\n",
              "      border-color: transparent;\n",
              "      border-left-color: var(--fill-color);\n",
              "      border-top-color: var(--fill-color);\n",
              "      border-right-color: var(--fill-color);\n",
              "    }\n",
              "    40% {\n",
              "      border-color: transparent;\n",
              "      border-right-color: var(--fill-color);\n",
              "      border-top-color: var(--fill-color);\n",
              "    }\n",
              "    60% {\n",
              "      border-color: transparent;\n",
              "      border-right-color: var(--fill-color);\n",
              "    }\n",
              "    80% {\n",
              "      border-color: transparent;\n",
              "      border-right-color: var(--fill-color);\n",
              "      border-bottom-color: var(--fill-color);\n",
              "    }\n",
              "    90% {\n",
              "      border-color: transparent;\n",
              "      border-bottom-color: var(--fill-color);\n",
              "    }\n",
              "  }\n",
              "</style>\n",
              "\n",
              "      <script>\n",
              "        async function quickchart(key) {\n",
              "          const quickchartButtonEl =\n",
              "            document.querySelector('#' + key + ' button');\n",
              "          quickchartButtonEl.disabled = true;  // To prevent multiple clicks.\n",
              "          quickchartButtonEl.classList.add('colab-df-spinner');\n",
              "          try {\n",
              "            const charts = await google.colab.kernel.invokeFunction(\n",
              "                'suggestCharts', [key], {});\n",
              "          } catch (error) {\n",
              "            console.error('Error during call to suggestCharts:', error);\n",
              "          }\n",
              "          quickchartButtonEl.classList.remove('colab-df-spinner');\n",
              "          quickchartButtonEl.classList.add('colab-df-quickchart-complete');\n",
              "        }\n",
              "        (() => {\n",
              "          let quickchartButtonEl =\n",
              "            document.querySelector('#df-885d6a9f-73b1-4e9a-a436-cc9b3d4c75cc button');\n",
              "          quickchartButtonEl.style.display =\n",
              "            google.colab.kernel.accessAllowed ? 'block' : 'none';\n",
              "        })();\n",
              "      </script>\n",
              "    </div>\n",
              "\n",
              "    </div>\n",
              "  </div>\n"
            ],
            "application/vnd.google.colaboratory.intrinsic+json": {
              "type": "dataframe",
              "variable_name": "df",
              "summary": "{\n  \"name\": \"df\",\n  \"rows\": 2471,\n  \"fields\": [\n    {\n      \"column\": \"Date\",\n      \"properties\": {\n        \"dtype\": \"date\",\n        \"min\": \"2015-02-17 00:00:00\",\n        \"max\": \"2025-02-13 00:00:00\",\n        \"num_unique_values\": 2471,\n        \"samples\": [\n          \"2019-04-29 00:00:00\",\n          \"2023-11-20 00:00:00\",\n          \"2021-12-14 00:00:00\"\n        ],\n        \"semantic_type\": \"\",\n        \"description\": \"\"\n      }\n    },\n    {\n      \"column\": \"Open\",\n      \"properties\": {\n        \"dtype\": \"number\",\n        \"std\": 1369.124079507085,\n        \"min\": 1126.550682337721,\n        \"max\": 6769.00475744299,\n        \"num_unique_values\": 2162,\n        \"samples\": [\n          1575.0889152566383,\n          2616.915663142335,\n          2809.058006723975\n        ],\n        \"semantic_type\": \"\",\n        \"description\": \"\"\n      }\n    },\n    {\n      \"column\": \"High\",\n      \"properties\": {\n        \"dtype\": \"number\",\n        \"std\": 1384.224009324039,\n        \"min\": 1199.8536376953125,\n        \"max\": 6859.863881703969,\n        \"num_unique_values\": 1989,\n        \"samples\": [\n          2391.098894817073,\n          4462.3857421875,\n          2406.081529354961\n        ],\n        \"semantic_type\": \"\",\n        \"description\": \"\"\n      }\n    },\n    {\n      \"column\": \"Low\",\n      \"properties\": {\n        \"dtype\": \"number\",\n        \"std\": 1353.6194082924435,\n        \"min\": 1103.40238064585,\n        \"max\": 6723.5751953125,\n        \"num_unique_values\": 2023,\n        \"samples\": [\n          2773.5554336120035,\n          2438.7320784684066,\n          2231.093636446221\n        ],\n        \"semantic_type\": \"\",\n        \"description\": \"\"\n      }\n    },\n    {\n      \"column\": \"Close\",\n      \"properties\": {\n        \"dtype\": \"number\",\n        \"std\": 1368.3476886119406,\n        \"min\": 1161.2733154296875,\n        \"max\": 6769.0048828125,\n        \"num_unique_values\": 896,\n        \"samples\": [\n          3906.435791015625,\n          2456.796630859375,\n          2220.305908203125\n        ],\n        \"semantic_type\": \"\",\n        \"description\": \"\"\n      }\n    },\n    {\n      \"column\": \"Volume\",\n      \"properties\": {\n        \"dtype\": \"number\",\n        \"std\": 59213380,\n        \"min\": 0,\n        \"max\": 770252400,\n        \"num_unique_values\": 2401,\n        \"samples\": [\n          53968200,\n          172058000,\n          50043400\n        ],\n        \"semantic_type\": \"\",\n        \"description\": \"\"\n      }\n    }\n  ]\n}"
            }
          },
          "metadata": {},
          "execution_count": 9
        }
      ],
      "source": [
        "df.head(3000)"
      ]
    },
    {
      "cell_type": "code",
      "execution_count": null,
      "metadata": {
        "colab": {
          "base_uri": "https://localhost:8080/"
        },
        "id": "6JfPR_-mTzXo",
        "outputId": "3c8703b7-4ec1-45eb-d26c-e5eb51855bf8"
      },
      "outputs": [
        {
          "output_type": "stream",
          "name": "stdout",
          "text": [
            "<class 'pandas.core.frame.DataFrame'>\n",
            "DatetimeIndex: 2471 entries, 2015-02-17 to 2025-02-13\n",
            "Data columns (total 5 columns):\n",
            " #   Column  Non-Null Count  Dtype  \n",
            "---  ------  --------------  -----  \n",
            " 0   Open    2471 non-null   float64\n",
            " 1   High    2471 non-null   float64\n",
            " 2   Low     2471 non-null   float64\n",
            " 3   Close   2471 non-null   float64\n",
            " 4   Volume  2471 non-null   int64  \n",
            "dtypes: float64(4), int64(1)\n",
            "memory usage: 115.8 KB\n"
          ]
        }
      ],
      "source": [
        "df.info(7)"
      ]
    },
    {
      "cell_type": "code",
      "execution_count": null,
      "metadata": {
        "id": "mpDFtLcbDAtY",
        "colab": {
          "base_uri": "https://localhost:8080/"
        },
        "outputId": "60035b6d-ac80-428b-f737-b958057f26e4"
      },
      "outputs": [
        {
          "output_type": "execute_result",
          "data": {
            "text/plain": [
              "12355"
            ]
          },
          "metadata": {},
          "execution_count": 11
        }
      ],
      "source": [
        "df.size"
      ]
    },
    {
      "cell_type": "code",
      "execution_count": null,
      "metadata": {
        "id": "g13R5vSaod98"
      },
      "outputs": [],
      "source": [
        "# === 2. Normalisasi Data ===\n",
        "# Memilih semua kolom untuk dinormalisasi\n",
        "features = df[['Open', 'High', 'Low', 'Close', 'Volume']]\n",
        "\n",
        "scaler = MinMaxScaler(feature_range=(0, 1))\n",
        "scaled_data = scaler.fit_transform(features)\n",
        "\n",
        "def create_dataset(data, time_steps=60):\n",
        "    x, y = [], []\n",
        "    for i in range(time_steps, len(data)):\n",
        "        x.append(data[i-time_steps:i])  # Ambil time_steps data sebelumnya\n",
        "        y.append(data[i, 3])  # Kolom indeks ke-3 adalah 'Close'\n",
        "    return np.array(x), np.array(y)"
      ]
    },
    {
      "cell_type": "code",
      "execution_count": null,
      "metadata": {
        "id": "Si1QhPyIoeFR"
      },
      "outputs": [],
      "source": [
        "# Split Data\n",
        "train_size = int(len(scaled_data) * 0.8)\n",
        "test_size = len(scaled_data) - train_size\n",
        "train_data, test_data = scaled_data[:train_size], scaled_data[train_size:]\n",
        "\n",
        "# Buat dataset untuk training dan testing\n",
        "x_train, y_train = create_dataset(train_data)\n",
        "x_test, y_test = create_dataset(test_data)\n",
        "\n",
        "# Reshape untuk model deep learning (samples, time_steps, features)\n",
        "x_train = np.reshape(x_train, (x_train.shape[0], x_train.shape[1], x_train.shape[2]))\n",
        "x_test = np.reshape(x_test, (x_test.shape[0], x_test.shape[1], x_test.shape[2]))"
      ]
    },
    {
      "cell_type": "code",
      "execution_count": null,
      "metadata": {
        "id": "yfsLE3EuosiY"
      },
      "outputs": [],
      "source": [
        "# # Build LSTM Model\n",
        "# model = Sequential([\n",
        "#     LSTM(50, return_sequences=True, input_shape=(x_train.shape[1], x_train.shape[2])),\n",
        "#     Dropout(0.2),\n",
        "#     LSTM(50, return_sequences=False),\n",
        "#     Dropout(0.2),\n",
        "#     Dense(25),\n",
        "#     Dense(1)\n",
        "# ])"
      ]
    },
    {
      "cell_type": "code",
      "execution_count": null,
      "metadata": {
        "id": "Ln0BmYuL0Uo7",
        "colab": {
          "base_uri": "https://localhost:8080/"
        },
        "outputId": "61551818-a965-412b-c94e-d6b56f94baa8"
      },
      "outputs": [
        {
          "output_type": "stream",
          "name": "stderr",
          "text": [
            "/usr/local/lib/python3.11/dist-packages/keras/src/layers/rnn/rnn.py:200: UserWarning: Do not pass an `input_shape`/`input_dim` argument to a layer. When using Sequential models, prefer using an `Input(shape)` object as the first layer in the model instead.\n",
            "  super().__init__(**kwargs)\n"
          ]
        }
      ],
      "source": [
        "# Pembuatan Arsitektur Model LSTM\n",
        "model_lstm = Sequential([\n",
        "    LSTM(64, return_sequences=True, input_shape=(x_train.shape[1], x_train.shape[2])),\n",
        "    Dropout(0.1),\n",
        "    LSTM(64, return_sequences=True),\n",
        "    Dropout(0.1),\n",
        "    LSTM(64, return_sequences=False),\n",
        "    Dropout(0.1),\n",
        "    Dense(50, activation='relu'),\n",
        "    Dense(1)\n",
        "])"
      ]
    },
    {
      "cell_type": "code",
      "execution_count": null,
      "metadata": {
        "id": "x0CG5tQGoske",
        "colab": {
          "base_uri": "https://localhost:8080/"
        },
        "outputId": "9de940f7-78ba-47e4-cb9e-a351ebb7bdd6"
      },
      "outputs": [
        {
          "output_type": "stream",
          "name": "stdout",
          "text": [
            "Epoch 1/50\n",
            "\u001b[1m60/60\u001b[0m \u001b[32m━━━━━━━━━━━━━━━━━━━━\u001b[0m\u001b[37m\u001b[0m \u001b[1m18s\u001b[0m 135ms/step - loss: 0.0290 - val_loss: 0.0471\n",
            "Epoch 2/50\n",
            "\u001b[1m60/60\u001b[0m \u001b[32m━━━━━━━━━━━━━━━━━━━━\u001b[0m\u001b[37m\u001b[0m \u001b[1m11s\u001b[0m 152ms/step - loss: 0.0017 - val_loss: 0.0079\n",
            "Epoch 3/50\n",
            "\u001b[1m60/60\u001b[0m \u001b[32m━━━━━━━━━━━━━━━━━━━━\u001b[0m\u001b[37m\u001b[0m \u001b[1m10s\u001b[0m 154ms/step - loss: 0.0011 - val_loss: 0.0030\n",
            "Epoch 4/50\n",
            "\u001b[1m60/60\u001b[0m \u001b[32m━━━━━━━━━━━━━━━━━━━━\u001b[0m\u001b[37m\u001b[0m \u001b[1m9s\u001b[0m 128ms/step - loss: 9.1949e-04 - val_loss: 0.0029\n",
            "Epoch 5/50\n",
            "\u001b[1m60/60\u001b[0m \u001b[32m━━━━━━━━━━━━━━━━━━━━\u001b[0m\u001b[37m\u001b[0m \u001b[1m10s\u001b[0m 158ms/step - loss: 8.1162e-04 - val_loss: 0.0031\n",
            "Epoch 6/50\n",
            "\u001b[1m60/60\u001b[0m \u001b[32m━━━━━━━━━━━━━━━━━━━━\u001b[0m\u001b[37m\u001b[0m \u001b[1m10s\u001b[0m 159ms/step - loss: 7.9417e-04 - val_loss: 0.0026\n",
            "Epoch 7/50\n",
            "\u001b[1m60/60\u001b[0m \u001b[32m━━━━━━━━━━━━━━━━━━━━\u001b[0m\u001b[37m\u001b[0m \u001b[1m9s\u001b[0m 130ms/step - loss: 7.3197e-04 - val_loss: 0.0023\n",
            "Epoch 8/50\n",
            "\u001b[1m60/60\u001b[0m \u001b[32m━━━━━━━━━━━━━━━━━━━━\u001b[0m\u001b[37m\u001b[0m \u001b[1m9s\u001b[0m 143ms/step - loss: 7.7589e-04 - val_loss: 0.0034\n",
            "Epoch 9/50\n",
            "\u001b[1m60/60\u001b[0m \u001b[32m━━━━━━━━━━━━━━━━━━━━\u001b[0m\u001b[37m\u001b[0m \u001b[1m12s\u001b[0m 179ms/step - loss: 7.5449e-04 - val_loss: 0.0046\n",
            "Epoch 10/50\n",
            "\u001b[1m60/60\u001b[0m \u001b[32m━━━━━━━━━━━━━━━━━━━━\u001b[0m\u001b[37m\u001b[0m \u001b[1m7s\u001b[0m 122ms/step - loss: 7.1488e-04 - val_loss: 0.0037\n",
            "Epoch 11/50\n",
            "\u001b[1m60/60\u001b[0m \u001b[32m━━━━━━━━━━━━━━━━━━━━\u001b[0m\u001b[37m\u001b[0m \u001b[1m10s\u001b[0m 170ms/step - loss: 6.4877e-04 - val_loss: 0.0030\n",
            "Epoch 12/50\n",
            "\u001b[1m60/60\u001b[0m \u001b[32m━━━━━━━━━━━━━━━━━━━━\u001b[0m\u001b[37m\u001b[0m \u001b[1m8s\u001b[0m 125ms/step - loss: 6.7469e-04 - val_loss: 0.0027\n",
            "Epoch 13/50\n",
            "\u001b[1m60/60\u001b[0m \u001b[32m━━━━━━━━━━━━━━━━━━━━\u001b[0m\u001b[37m\u001b[0m \u001b[1m11s\u001b[0m 131ms/step - loss: 6.3476e-04 - val_loss: 0.0030\n",
            "Epoch 14/50\n",
            "\u001b[1m60/60\u001b[0m \u001b[32m━━━━━━━━━━━━━━━━━━━━\u001b[0m\u001b[37m\u001b[0m \u001b[1m11s\u001b[0m 137ms/step - loss: 5.9502e-04 - val_loss: 0.0023\n",
            "Epoch 15/50\n",
            "\u001b[1m60/60\u001b[0m \u001b[32m━━━━━━━━━━━━━━━━━━━━\u001b[0m\u001b[37m\u001b[0m \u001b[1m11s\u001b[0m 156ms/step - loss: 5.6130e-04 - val_loss: 0.0052\n",
            "Epoch 16/50\n",
            "\u001b[1m60/60\u001b[0m \u001b[32m━━━━━━━━━━━━━━━━━━━━\u001b[0m\u001b[37m\u001b[0m \u001b[1m10s\u001b[0m 159ms/step - loss: 6.0978e-04 - val_loss: 0.0025\n",
            "Epoch 17/50\n",
            "\u001b[1m60/60\u001b[0m \u001b[32m━━━━━━━━━━━━━━━━━━━━\u001b[0m\u001b[37m\u001b[0m \u001b[1m8s\u001b[0m 129ms/step - loss: 5.8291e-04 - val_loss: 0.0038\n",
            "Epoch 18/50\n",
            "\u001b[1m60/60\u001b[0m \u001b[32m━━━━━━━━━━━━━━━━━━━━\u001b[0m\u001b[37m\u001b[0m \u001b[1m9s\u001b[0m 151ms/step - loss: 5.4905e-04 - val_loss: 0.0025\n",
            "Epoch 19/50\n",
            "\u001b[1m60/60\u001b[0m \u001b[32m━━━━━━━━━━━━━━━━━━━━\u001b[0m\u001b[37m\u001b[0m \u001b[1m10s\u001b[0m 152ms/step - loss: 5.6041e-04 - val_loss: 0.0039\n",
            "Epoch 20/50\n",
            "\u001b[1m60/60\u001b[0m \u001b[32m━━━━━━━━━━━━━━━━━━━━\u001b[0m\u001b[37m\u001b[0m \u001b[1m9s\u001b[0m 128ms/step - loss: 5.5676e-04 - val_loss: 0.0027\n",
            "Epoch 21/50\n",
            "\u001b[1m60/60\u001b[0m \u001b[32m━━━━━━━━━━━━━━━━━━━━\u001b[0m\u001b[37m\u001b[0m \u001b[1m11s\u001b[0m 136ms/step - loss: 5.4779e-04 - val_loss: 0.0040\n",
            "Epoch 22/50\n",
            "\u001b[1m60/60\u001b[0m \u001b[32m━━━━━━━━━━━━━━━━━━━━\u001b[0m\u001b[37m\u001b[0m \u001b[1m11s\u001b[0m 154ms/step - loss: 5.4584e-04 - val_loss: 0.0027\n",
            "Epoch 23/50\n",
            "\u001b[1m60/60\u001b[0m \u001b[32m━━━━━━━━━━━━━━━━━━━━\u001b[0m\u001b[37m\u001b[0m \u001b[1m9s\u001b[0m 141ms/step - loss: 5.3960e-04 - val_loss: 0.0040\n",
            "Epoch 24/50\n",
            "\u001b[1m60/60\u001b[0m \u001b[32m━━━━━━━━━━━━━━━━━━━━\u001b[0m\u001b[37m\u001b[0m \u001b[1m8s\u001b[0m 131ms/step - loss: 5.1082e-04 - val_loss: 0.0027\n",
            "Epoch 25/50\n",
            "\u001b[1m60/60\u001b[0m \u001b[32m━━━━━━━━━━━━━━━━━━━━\u001b[0m\u001b[37m\u001b[0m \u001b[1m12s\u001b[0m 154ms/step - loss: 4.6590e-04 - val_loss: 0.0037\n",
            "Epoch 26/50\n",
            "\u001b[1m60/60\u001b[0m \u001b[32m━━━━━━━━━━━━━━━━━━━━\u001b[0m\u001b[37m\u001b[0m \u001b[1m9s\u001b[0m 144ms/step - loss: 5.2496e-04 - val_loss: 0.0014\n",
            "Epoch 27/50\n",
            "\u001b[1m60/60\u001b[0m \u001b[32m━━━━━━━━━━━━━━━━━━━━\u001b[0m\u001b[37m\u001b[0m \u001b[1m9s\u001b[0m 123ms/step - loss: 5.1178e-04 - val_loss: 0.0045\n",
            "Epoch 28/50\n",
            "\u001b[1m60/60\u001b[0m \u001b[32m━━━━━━━━━━━━━━━━━━━━\u001b[0m\u001b[37m\u001b[0m \u001b[1m11s\u001b[0m 132ms/step - loss: 5.1071e-04 - val_loss: 0.0020\n",
            "Epoch 29/50\n",
            "\u001b[1m60/60\u001b[0m \u001b[32m━━━━━━━━━━━━━━━━━━━━\u001b[0m\u001b[37m\u001b[0m \u001b[1m11s\u001b[0m 155ms/step - loss: 4.6153e-04 - val_loss: 0.0023\n",
            "Epoch 30/50\n",
            "\u001b[1m60/60\u001b[0m \u001b[32m━━━━━━━━━━━━━━━━━━━━\u001b[0m\u001b[37m\u001b[0m \u001b[1m10s\u001b[0m 150ms/step - loss: 5.0948e-04 - val_loss: 0.0041\n",
            "Epoch 31/50\n",
            "\u001b[1m60/60\u001b[0m \u001b[32m━━━━━━━━━━━━━━━━━━━━\u001b[0m\u001b[37m\u001b[0m \u001b[1m9s\u001b[0m 128ms/step - loss: 4.7190e-04 - val_loss: 0.0031\n",
            "Epoch 32/50\n",
            "\u001b[1m60/60\u001b[0m \u001b[32m━━━━━━━━━━━━━━━━━━━━\u001b[0m\u001b[37m\u001b[0m \u001b[1m11s\u001b[0m 143ms/step - loss: 4.5641e-04 - val_loss: 0.0016\n",
            "Epoch 33/50\n",
            "\u001b[1m60/60\u001b[0m \u001b[32m━━━━━━━━━━━━━━━━━━━━\u001b[0m\u001b[37m\u001b[0m \u001b[1m12s\u001b[0m 176ms/step - loss: 4.5523e-04 - val_loss: 0.0029\n",
            "Epoch 34/50\n",
            "\u001b[1m60/60\u001b[0m \u001b[32m━━━━━━━━━━━━━━━━━━━━\u001b[0m\u001b[37m\u001b[0m \u001b[1m10s\u001b[0m 159ms/step - loss: 4.7143e-04 - val_loss: 0.0017\n",
            "Epoch 35/50\n",
            "\u001b[1m60/60\u001b[0m \u001b[32m━━━━━━━━━━━━━━━━━━━━\u001b[0m\u001b[37m\u001b[0m \u001b[1m9s\u001b[0m 130ms/step - loss: 4.6061e-04 - val_loss: 0.0021\n",
            "Epoch 36/50\n",
            "\u001b[1m60/60\u001b[0m \u001b[32m━━━━━━━━━━━━━━━━━━━━\u001b[0m\u001b[37m\u001b[0m \u001b[1m9s\u001b[0m 156ms/step - loss: 4.3851e-04 - val_loss: 0.0020\n",
            "Epoch 37/50\n",
            "\u001b[1m60/60\u001b[0m \u001b[32m━━━━━━━━━━━━━━━━━━━━\u001b[0m\u001b[37m\u001b[0m \u001b[1m10s\u001b[0m 159ms/step - loss: 4.4008e-04 - val_loss: 0.0026\n",
            "Epoch 38/50\n",
            "\u001b[1m60/60\u001b[0m \u001b[32m━━━━━━━━━━━━━━━━━━━━\u001b[0m\u001b[37m\u001b[0m \u001b[1m9s\u001b[0m 134ms/step - loss: 4.4278e-04 - val_loss: 0.0031\n",
            "Epoch 39/50\n",
            "\u001b[1m60/60\u001b[0m \u001b[32m━━━━━━━━━━━━━━━━━━━━\u001b[0m\u001b[37m\u001b[0m \u001b[1m11s\u001b[0m 138ms/step - loss: 4.2808e-04 - val_loss: 0.0033\n",
            "Epoch 40/50\n",
            "\u001b[1m60/60\u001b[0m \u001b[32m━━━━━━━━━━━━━━━━━━━━\u001b[0m\u001b[37m\u001b[0m \u001b[1m9s\u001b[0m 151ms/step - loss: 4.4830e-04 - val_loss: 0.0026\n",
            "Epoch 41/50\n",
            "\u001b[1m60/60\u001b[0m \u001b[32m━━━━━━━━━━━━━━━━━━━━\u001b[0m\u001b[37m\u001b[0m \u001b[1m8s\u001b[0m 132ms/step - loss: 4.3682e-04 - val_loss: 0.0020\n",
            "Epoch 42/50\n",
            "\u001b[1m60/60\u001b[0m \u001b[32m━━━━━━━━━━━━━━━━━━━━\u001b[0m\u001b[37m\u001b[0m \u001b[1m10s\u001b[0m 131ms/step - loss: 4.3646e-04 - val_loss: 0.0025\n",
            "Epoch 43/50\n",
            "\u001b[1m60/60\u001b[0m \u001b[32m━━━━━━━━━━━━━━━━━━━━\u001b[0m\u001b[37m\u001b[0m \u001b[1m11s\u001b[0m 152ms/step - loss: 4.3187e-04 - val_loss: 0.0040\n",
            "Epoch 44/50\n",
            "\u001b[1m60/60\u001b[0m \u001b[32m━━━━━━━━━━━━━━━━━━━━\u001b[0m\u001b[37m\u001b[0m \u001b[1m9s\u001b[0m 150ms/step - loss: 4.3510e-04 - val_loss: 0.0019\n",
            "Epoch 45/50\n",
            "\u001b[1m60/60\u001b[0m \u001b[32m━━━━━━━━━━━━━━━━━━━━\u001b[0m\u001b[37m\u001b[0m \u001b[1m9s\u001b[0m 125ms/step - loss: 3.9450e-04 - val_loss: 0.0020\n",
            "Epoch 46/50\n",
            "\u001b[1m60/60\u001b[0m \u001b[32m━━━━━━━━━━━━━━━━━━━━\u001b[0m\u001b[37m\u001b[0m \u001b[1m11s\u001b[0m 137ms/step - loss: 3.9875e-04 - val_loss: 0.0017\n",
            "Epoch 47/50\n",
            "\u001b[1m60/60\u001b[0m \u001b[32m━━━━━━━━━━━━━━━━━━━━\u001b[0m\u001b[37m\u001b[0m \u001b[1m9s\u001b[0m 153ms/step - loss: 3.8055e-04 - val_loss: 0.0013\n",
            "Epoch 48/50\n",
            "\u001b[1m60/60\u001b[0m \u001b[32m━━━━━━━━━━━━━━━━━━━━\u001b[0m\u001b[37m\u001b[0m \u001b[1m9s\u001b[0m 136ms/step - loss: 3.9567e-04 - val_loss: 0.0025\n",
            "Epoch 49/50\n",
            "\u001b[1m60/60\u001b[0m \u001b[32m━━━━━━━━━━━━━━━━━━━━\u001b[0m\u001b[37m\u001b[0m \u001b[1m10s\u001b[0m 128ms/step - loss: 3.7574e-04 - val_loss: 0.0023\n",
            "Epoch 50/50\n",
            "\u001b[1m60/60\u001b[0m \u001b[32m━━━━━━━━━━━━━━━━━━━━\u001b[0m\u001b[37m\u001b[0m \u001b[1m9s\u001b[0m 151ms/step - loss: 3.7984e-04 - val_loss: 0.0016\n"
          ]
        }
      ],
      "source": [
        "# Compile Model\n",
        "optimizer = Adam(learning_rate=0.0001)\n",
        "model_lstm.compile(optimizer=optimizer)\n",
        "\n",
        "# Train Model\n",
        "history = model_lstm.fit(x_train, y_train, epochs=50, batch_size=32, validation_data=(x_test, y_test))"
      ]
    },
    {
      "cell_type": "code",
      "execution_count": null,
      "metadata": {
        "id": "95HBHoFApAY5",
        "colab": {
          "base_uri": "https://localhost:8080/"
        },
        "outputId": "5cbcbb84-8308-4b2d-95ae-b3fae61619e1"
      },
      "outputs": [
        {
          "output_type": "stream",
          "name": "stdout",
          "text": [
            "\u001b[1m14/14\u001b[0m \u001b[32m━━━━━━━━━━━━━━━━━━━━\u001b[0m\u001b[37m\u001b[0m \u001b[1m2s\u001b[0m 88ms/step\n"
          ]
        }
      ],
      "source": [
        "# Predict Prices\n",
        "predictions = model_lstm.predict(x_test)"
      ]
    },
    {
      "cell_type": "code",
      "execution_count": null,
      "metadata": {
        "id": "eC-6I8JzpAbG"
      },
      "outputs": [],
      "source": [
        "# Pastikan hanya fitur yang digunakan untuk normalisasi yang masuk ke inverse_transform\n",
        "test_data_partial = test_data[60:]  # Ambil subset dari test_data mulai indeks ke-60\n",
        "\n",
        "# Buat array kosong dengan jumlah kolom yang sesuai (harus sama dengan fitur saat normalisasi)\n",
        "zero_fill = np.zeros((len(y_test), scaled_data.shape[1]))\n",
        "\n",
        "# Tempatkan prediksi ke dalam array kosong pada kolom ke-3 ('Close' biasanya ada di indeks ke-3)\n",
        "zero_fill[:, 3] = predictions.flatten()\n",
        "\n",
        "predictions_denormalized = scaler.inverse_transform(zero_fill)[:, 3]\n",
        "y_test_denormalized = scaler.inverse_transform(test_data_partial)[:, 3]\n"
      ]
    },
    {
      "cell_type": "code",
      "execution_count": null,
      "metadata": {
        "id": "weZUi-EapAdN",
        "colab": {
          "base_uri": "https://localhost:8080/"
        },
        "outputId": "5acaeb3f-065a-4328-89cb-5e025a8fd8b7"
      },
      "outputs": [
        {
          "output_type": "stream",
          "name": "stdout",
          "text": [
            "\n",
            "Evaluasi Model LSTM (Dalam Skala IDR):\n",
            "R Squared: 0.8778\n",
            "Root Mean Squared Error (RMSE): 226.68\n",
            "Mean Absolute Percentage Error (MAPE): 3.31 %\n"
          ]
        }
      ],
      "source": [
        "# Evaluasi Model LSTM\n",
        "r2 = r2_score(y_test_denormalized, predictions_denormalized)\n",
        "mse = mean_squared_error(y_test_denormalized, predictions_denormalized)\n",
        "rmse = np.sqrt(mse)\n",
        "mape = np.mean(np.abs((y_test_denormalized - predictions_denormalized) / y_test_denormalized)) * 100\n",
        "\n",
        "print(\"\\nEvaluasi Model LSTM (Dalam Skala IDR):\")\n",
        "print(f\"R Squared: {r2:.4f}\")\n",
        "print(f\"Root Mean Squared Error (RMSE): {rmse:.2f}\")\n",
        "print(f\"Mean Absolute Percentage Error (MAPE): {mape:.2f} %\")"
      ]
    },
    {
      "cell_type": "code",
      "execution_count": null,
      "metadata": {
        "id": "v32aQmdBpA1T"
      },
      "outputs": [],
      "source": [
        "# import matplotlib.dates as mdates\n",
        "\n",
        "# plt.figure(figsize=(16, 8))\n",
        "\n",
        "# # Plot data actual dan prediksi\n",
        "# plt.plot(df.index[-len(y_test_denormalized):], y_test_denormalized, color='blue', label='Actual Prices')\n",
        "# plt.plot(df.index[-len(y_test_denormalized):], predictions_denormalized, color='red', label='Predicted Prices')\n",
        "\n",
        "# # Format sumbu X agar hanya menampilkan label setiap minggu\n",
        "# plt.gca().xaxis.set_major_locator(mdates.WeekdayLocator(interval=1))  # Menampilkan tiap minggu\n",
        "# plt.gca().xaxis.set_major_formatter(mdates.DateFormatter('%d %b %Y'))  # Format: \"03 Mar 2025\"\n",
        "\n",
        "# plt.title('Stock Price Prediction')\n",
        "# plt.xlabel('Date')\n",
        "# plt.ylabel('Stock Price (IDR)')\n",
        "# plt.legend()\n",
        "# plt.xticks(rotation=45)  # Memiringkan label agar lebih mudah dibaca\n",
        "# plt.show()"
      ]
    },
    {
      "cell_type": "code",
      "execution_count": null,
      "metadata": {
        "id": "eKkJoLIlDBiS",
        "colab": {
          "base_uri": "https://localhost:8080/",
          "height": 806
        },
        "outputId": "efdda2cc-e30f-4325-ca2f-9f67cad65b2a"
      },
      "outputs": [
        {
          "output_type": "display_data",
          "data": {
            "text/plain": [
              "<Figure size 1600x800 with 2 Axes>"
            ],
            "image/png": "[encoded data removed]"
          },
          "metadata": {}
        }
      ],
      "source": [
        "# import matplotlib.pyplot as plt\n",
        "import matplotlib.dates as mdates\n",
        "\n",
        "plt.figure(figsize=(16, 8))\n",
        "\n",
        "# Grafik 1: Harga Aktual dari seluruh dataset\n",
        "plt.subplot(2, 1, 1)\n",
        "plt.plot(df.index, df['Close'], color='blue', label='Actual Prices')  # Gunakan seluruh data\n",
        "plt.gca().xaxis.set_major_locator(mdates.YearLocator())  # Tampilkan hanya tahun\n",
        "plt.gca().xaxis.set_major_formatter(mdates.DateFormatter('%Y'))  # Format tahun saja\n",
        "plt.title('Actual Stock Prices')\n",
        "plt.xlabel('Year')\n",
        "plt.ylabel('Stock Price (IDR)')\n",
        "plt.legend()\n",
        "plt.grid(True)\n",
        "plt.xticks(rotation=45)\n",
        "\n",
        "# Grafik 2: Prediksi Harga vs Aktual (Testing Data)\n",
        "plt.subplot(2, 1, 2)\n",
        "plt.plot(df.index[-len(y_test_denormalized):], y_test_denormalized, color='blue', label='Actual Prices')\n",
        "plt.plot(df.index[-len(y_test_denormalized):], predictions_denormalized, color='red', label='Predicted Prices')\n",
        "plt.title('Actual vs Predicted Stock Prices')\n",
        "plt.xlabel('Date')\n",
        "plt.ylabel('Stock Price (IDR)')\n",
        "plt.legend()\n",
        "plt.grid(True)\n",
        "plt.xticks(rotation=45)\n",
        "\n",
        "# Format sumbu waktu pada grafik kedua\n",
        "# plt.gca().xaxis.set_major_locator(mdates.WeekdayLocator(interval=1))\n",
        "# plt.gca().xaxis.set_major_formatter(mdates.DateFormatter('%d %b %Y'))\n",
        "\n",
        "plt.tight_layout()\n",
        "plt.show()\n"
      ]
    },
    {
      "cell_type": "code",
      "execution_count": null,
      "metadata": {
        "id": "twIZd1tb_6Lx",
        "colab": {
          "base_uri": "https://localhost:8080/"
        },
        "outputId": "bd905300-b139-42fa-e8be-b9016d9c9234"
      },
      "outputs": [
        {
          "output_type": "stream",
          "name": "stdout",
          "text": [
            "\u001b[1m1/1\u001b[0m \u001b[32m━━━━━━━━━━━━━━━━━━━━\u001b[0m\u001b[37m\u001b[0m \u001b[1m0s\u001b[0m 42ms/step\n",
            "Prediksi harga saham di hari berikutnya adalah Rp4,744.93, dengan tingkat akurasi sebesar 87.78%\n"
          ]
        }
      ],
      "source": [
        "# Ambil data terbaru dari test_data\n",
        "last_60_days = test_data[-60:]  # Ambil 60 hari terakhir sebagai input\n",
        "last_60_days = np.reshape(last_60_days, (1, last_60_days.shape[0], last_60_days.shape[1]))\n",
        "\n",
        "# Prediksi harga hari berikutnya\n",
        "predicted_next_day = model_lstm.predict(last_60_days)\n",
        "\n",
        "# Denormalisasi hasil prediksi\n",
        "zero_fill_next_day = np.zeros((1, scaled_data.shape[1]))  # Buat array kosong sesuai jumlah fitur\n",
        "zero_fill_next_day[:, 3] = predicted_next_day.flatten()  # Masukkan prediksi ke indeks ke-3 ('Close')\n",
        "\n",
        "# Denormalisasi prediksi harga hari berikutnya\n",
        "predicted_next_day_price = scaler.inverse_transform(zero_fill_next_day)[:, 3]\n",
        "\n",
        "# Output hasil prediksi\n",
        "accuracy = r2 * 100 # Melakukan konversi ke persen\n",
        "stock_name = df\n",
        "print(f\"Prediksi harga saham di hari berikutnya adalah Rp{predicted_next_day_price[0]:,.2f}, dengan tingkat akurasi sebesar {accuracy:.2f}%\")\n"
      ]
    },
    {
      "cell_type": "code",
      "execution_count": null,
      "metadata": {
        "id": "nzB_HCIZSXhx",
        "colab": {
          "base_uri": "https://localhost:8080/",
          "height": 472
        },
        "outputId": "a06f0923-9c77-4bb3-81fb-8c4ccf3810b4"
      },
      "outputs": [
        {
          "output_type": "display_data",
          "data": {
            "text/plain": [
              "<Figure size 640x480 with 1 Axes>"
            ],
            "image/png": "[encoded data removed]"
          },
          "metadata": {}
        }
      ],
      "source": [
        "plt.plot(history.history['loss'], label='Training Loss')\n",
        "plt.plot(history.history['val_loss'], label='Validation Loss')\n",
        "plt.title('Training vs Validation Loss LSTM')\n",
        "plt.xlabel('Epoch')\n",
        "plt.ylabel('Loss')\n",
        "plt.legend()\n",
        "plt.grid(True)\n",
        "plt.show()"
      ]
    },
    {
      "cell_type": "code",
      "source": [
        "# Menyimpan model LSTM ke file .h5\n",
        "model_lstm.save('model_lstm.h5')\n",
        "\n",
        "import pickle\n",
        "\n",
        "# Simpan scaler\n",
        "with open('scaler.pkl', 'wb') as f:\n",
        "    pickle.dump(scaler, f)\n",
        "\n",
        "from google.colab import files\n",
        "\n",
        "files.download('model_lstm.h5')\n",
        "files.download('scaler.pkl')"
      ],
      "metadata": {
        "colab": {
          "base_uri": "https://localhost:8080/",
          "height": 55
        },
        "id": "W4bwa2wK_LYB",
        "outputId": "6f2f0f8e-b5eb-4655-8a67-afe1f35a6b00"
      },
      "execution_count": null,
      "outputs": [
        {
          "output_type": "stream",
          "name": "stderr",
          "text": [
            "WARNING:absl:You are saving your model as an HDF5 file via `model.save()` or `keras.saving.save_model(model)`. This file format is considered legacy. We recommend using instead the native Keras format, e.g. `model.save('my_model.keras')` or `keras.saving.save_model(model, 'my_model.keras')`. \n"
          ]
        },
        {
          "output_type": "display_data",
          "data": {
            "text/plain": [
              "<IPython.core.display.Javascript object>"
            ],
            "application/javascript": [
              "\n",
              "    async function download(id, filename, size) {\n",
              "      if (!google.colab.kernel.accessAllowed) {\n",
              "        return;\n",
              "      }\n",
              "      const div = document.createElement('div');\n",
              "      const label = document.createElement('label');\n",
              "      label.textContent = `Downloading \"${filename}\": `;\n",
              "      div.appendChild(label);\n",
              "      const progress = document.createElement('progress');\n",
              "      progress.max = size;\n",
              "      div.appendChild(progress);\n",
              "      document.body.appendChild(div);\n",
              "\n",
              "      const buffers = [];\n",
              "      let downloaded = 0;\n",
              "\n",
              "      const channel = await google.colab.kernel.comms.open(id);\n",
              "      // Send a message to notify the kernel that we're ready.\n",
              "      channel.send({})\n",
              "\n",
              "      for await (const message of channel.messages) {\n",
              "        // Send a message to notify the kernel that we're ready.\n",
              "        channel.send({})\n",
              "        if (message.buffers) {\n",
              "          for (const buffer of message.buffers) {\n",
              "            buffers.push(buffer);\n",
              "            downloaded += buffer.byteLength;\n",
              "            progress.value = downloaded;\n",
              "          }\n",
              "        }\n",
              "      }\n",
              "      const blob = new Blob(buffers, {type: 'application/binary'});\n",
              "      const a = document.createElement('a');\n",
              "      a.href = window.URL.createObjectURL(blob);\n",
              "      a.download = filename;\n",
              "      div.appendChild(a);\n",
              "      a.click();\n",
              "      div.remove();\n",
              "    }\n",
              "  "
            ]
          },
          "metadata": {}
        },
        {
          "output_type": "display_data",
          "data": {
            "text/plain": [
              "<IPython.core.display.Javascript object>"
            ],
            "application/javascript": [
              "download(\"download_9bbc6f4f-ced7-4e48-ad29-b65416b43841\", \"model_lstm.h5\", 1103696)"
            ]
          },
          "metadata": {}
        },
        {
          "output_type": "display_data",
          "data": {
            "text/plain": [
              "<IPython.core.display.Javascript object>"
            ],
            "application/javascript": [
              "\n",
              "    async function download(id, filename, size) {\n",
              "      if (!google.colab.kernel.accessAllowed) {\n",
              "        return;\n",
              "      }\n",
              "      const div = document.createElement('div');\n",
              "      const label = document.createElement('label');\n",
              "      label.textContent = `Downloading \"${filename}\": `;\n",
              "      div.appendChild(label);\n",
              "      const progress = document.createElement('progress');\n",
              "      progress.max = size;\n",
              "      div.appendChild(progress);\n",
              "      document.body.appendChild(div);\n",
              "\n",
              "      const buffers = [];\n",
              "      let downloaded = 0;\n",
              "\n",
              "      const channel = await google.colab.kernel.comms.open(id);\n",
              "      // Send a message to notify the kernel that we're ready.\n",
              "      channel.send({})\n",
              "\n",
              "      for await (const message of channel.messages) {\n",
              "        // Send a message to notify the kernel that we're ready.\n",
              "        channel.send({})\n",
              "        if (message.buffers) {\n",
              "          for (const buffer of message.buffers) {\n",
              "            buffers.push(buffer);\n",
              "            downloaded += buffer.byteLength;\n",
              "            progress.value = downloaded;\n",
              "          }\n",
              "        }\n",
              "      }\n",
              "      const blob = new Blob(buffers, {type: 'application/binary'});\n",
              "      const a = document.createElement('a');\n",
              "      a.href = window.URL.createObjectURL(blob);\n",
              "      a.download = filename;\n",
              "      div.appendChild(a);\n",
              "      a.click();\n",
              "      div.remove();\n",
              "    }\n",
              "  "
            ]
          },
          "metadata": {}
        },
        {
          "output_type": "display_data",
          "data": {
            "text/plain": [
              "<IPython.core.display.Javascript object>"
            ],
            "application/javascript": [
              "download(\"download_9b996edc-8dbf-44e5-8df2-eec5c2ef01ea\", \"scaler.pkl\", 806)"
            ]
          },
          "metadata": {}
        }
      ]
    }
  ],
  "metadata": {
    "colab": {
      "provenance": []
    },
    "kernelspec": {
      "display_name": "Python 3",
      "name": "python3"
    },
    "language_info": {
      "name": "python"
    }
  },
  "nbformat": 4,
  "nbformat_minor": 0
}